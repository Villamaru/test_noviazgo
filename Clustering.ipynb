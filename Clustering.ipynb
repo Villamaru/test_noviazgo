{
 "cells": [
  {
   "cell_type": "markdown",
   "metadata": {},
   "source": [
    "Cargamos librerias"
   ]
  },
  {
   "cell_type": "code",
   "execution_count": 1,
   "metadata": {},
   "outputs": [],
   "source": [
    "import pandas as pd\n",
    "import numpy as np\n",
    "#import mglearn\n",
    "\n",
    "#Preprocesamiento\n",
    "from sklearn.decomposition import PCA\n",
    "\n",
    "#Clustering\n",
    "from scipy.cluster.hierarchy import dendrogram, linkage, cophenet, fcluster\n",
    "from scipy.spatial.distance import pdist\n",
    "\n",
    "#Otros\n",
    "import os\n",
    "import matplotlib\n",
    "from matplotlib import pyplot as plt\n",
    "import seaborn as sns\n",
    "%matplotlib inline"
   ]
  },
  {
   "cell_type": "markdown",
   "metadata": {},
   "source": [
    "Cargamos los datos a modificar"
   ]
  },
  {
   "cell_type": "code",
   "execution_count": 2,
   "metadata": {},
   "outputs": [],
   "source": [
    "test_17 = pd.read_csv(\"resultados-del-test-2017-18.csv\",sep=\";\")\n",
    "test_18 = pd.read_csv(\"resultados-del-test-2018-19.csv\")\n",
    "test_17.columns = test_18.columns.tolist()[0:15]\n",
    "tests = [test_17,test_18]"
   ]
  },
  {
   "cell_type": "markdown",
   "metadata": {},
   "source": [
    "Hacemos las modificaciones pertinentes"
   ]
  },
  {
   "cell_type": "code",
   "execution_count": 3,
   "metadata": {},
   "outputs": [],
   "source": [
    "for test in tests:\n",
    "    \n",
    "    test[\"datime\"] = pd.to_datetime(test[\"fecha\"]+\" \"+test[\"hora\"])\n",
    "    #Hacemos una nueva variable datime y le introducimos los datos de fecha y hora\n",
    "    \n",
    "    \n",
    "    test.drop([\"fecha\",\"hora\"],axis = 1,inplace=True)\n",
    "    \n",
    "    \n",
    "    "
   ]
  },
  {
   "cell_type": "markdown",
   "metadata": {},
   "source": [
    "Nos traemos solo lo que vamos a clusterizar"
   ]
  },
  {
   "cell_type": "code",
   "execution_count": 4,
   "metadata": {},
   "outputs": [
    {
     "data": {
      "text/html": [
       "<div>\n",
       "<style scoped>\n",
       "    .dataframe tbody tr th:only-of-type {\n",
       "        vertical-align: middle;\n",
       "    }\n",
       "\n",
       "    .dataframe tbody tr th {\n",
       "        vertical-align: top;\n",
       "    }\n",
       "\n",
       "    .dataframe thead th {\n",
       "        text-align: right;\n",
       "    }\n",
       "</style>\n",
       "<table border=\"1\" class=\"dataframe\">\n",
       "  <thead>\n",
       "    <tr style=\"text-align: right;\">\n",
       "      <th></th>\n",
       "      <th>edad</th>\n",
       "      <th>genero</th>\n",
       "      <th>barrio</th>\n",
       "      <th>pregunta_1</th>\n",
       "      <th>pregunta_2</th>\n",
       "      <th>pregunta_3</th>\n",
       "      <th>pregunta_4</th>\n",
       "      <th>pregunta_5</th>\n",
       "      <th>pregunta_6</th>\n",
       "      <th>pregunta_7</th>\n",
       "      <th>pregunta_8</th>\n",
       "      <th>pregunta_9</th>\n",
       "      <th>pregunta_10</th>\n",
       "      <th>datime</th>\n",
       "    </tr>\n",
       "  </thead>\n",
       "  <tbody>\n",
       "    <tr>\n",
       "      <th>0</th>\n",
       "      <td>28</td>\n",
       "      <td>HOMBRE</td>\n",
       "      <td>PALERMO</td>\n",
       "      <td>B</td>\n",
       "      <td>B</td>\n",
       "      <td>B</td>\n",
       "      <td>B</td>\n",
       "      <td>B</td>\n",
       "      <td>B</td>\n",
       "      <td>B</td>\n",
       "      <td>B</td>\n",
       "      <td>B</td>\n",
       "      <td>B</td>\n",
       "      <td>2017-02-13 23:41:00</td>\n",
       "    </tr>\n",
       "    <tr>\n",
       "      <th>1</th>\n",
       "      <td>23</td>\n",
       "      <td>MUJER</td>\n",
       "      <td>BALVANERA</td>\n",
       "      <td>B</td>\n",
       "      <td>B</td>\n",
       "      <td>B</td>\n",
       "      <td>B</td>\n",
       "      <td>B</td>\n",
       "      <td>B</td>\n",
       "      <td>B</td>\n",
       "      <td>B</td>\n",
       "      <td>B</td>\n",
       "      <td>B</td>\n",
       "      <td>2017-02-13 20:09:00</td>\n",
       "    </tr>\n",
       "    <tr>\n",
       "      <th>2</th>\n",
       "      <td>22</td>\n",
       "      <td>MUJER</td>\n",
       "      <td>BALVANERA</td>\n",
       "      <td>A</td>\n",
       "      <td>A</td>\n",
       "      <td>A</td>\n",
       "      <td>A</td>\n",
       "      <td>A</td>\n",
       "      <td>A</td>\n",
       "      <td>A</td>\n",
       "      <td>A</td>\n",
       "      <td>B</td>\n",
       "      <td>C</td>\n",
       "      <td>2017-02-13 20:07:00</td>\n",
       "    </tr>\n",
       "  </tbody>\n",
       "</table>\n",
       "</div>"
      ],
      "text/plain": [
       "  edad  genero     barrio pregunta_1 pregunta_2 pregunta_3 pregunta_4  \\\n",
       "0   28  HOMBRE    PALERMO          B          B          B          B   \n",
       "1   23   MUJER  BALVANERA          B          B          B          B   \n",
       "2   22   MUJER  BALVANERA          A          A          A          A   \n",
       "\n",
       "  pregunta_5 pregunta_6 pregunta_7 pregunta_8 pregunta_9 pregunta_10  \\\n",
       "0          B          B          B          B          B           B   \n",
       "1          B          B          B          B          B           B   \n",
       "2          A          A          A          A          B           C   \n",
       "\n",
       "               datime  \n",
       "0 2017-02-13 23:41:00  \n",
       "1 2017-02-13 20:09:00  \n",
       "2 2017-02-13 20:07:00  "
      ]
     },
     "execution_count": 4,
     "metadata": {},
     "output_type": "execute_result"
    }
   ],
   "source": [
    "test_17.head(3)"
   ]
  },
  {
   "cell_type": "code",
   "execution_count": 5,
   "metadata": {},
   "outputs": [
    {
     "data": {
      "text/html": [
       "<div>\n",
       "<style scoped>\n",
       "    .dataframe tbody tr th:only-of-type {\n",
       "        vertical-align: middle;\n",
       "    }\n",
       "\n",
       "    .dataframe tbody tr th {\n",
       "        vertical-align: top;\n",
       "    }\n",
       "\n",
       "    .dataframe thead th {\n",
       "        text-align: right;\n",
       "    }\n",
       "</style>\n",
       "<table border=\"1\" class=\"dataframe\">\n",
       "  <thead>\n",
       "    <tr style=\"text-align: right;\">\n",
       "      <th></th>\n",
       "      <th>edad</th>\n",
       "      <th>genero</th>\n",
       "      <th>barrio</th>\n",
       "      <th>pregunta_1</th>\n",
       "      <th>pregunta_2</th>\n",
       "      <th>pregunta_3</th>\n",
       "      <th>pregunta_4</th>\n",
       "      <th>pregunta_5</th>\n",
       "      <th>pregunta_6</th>\n",
       "      <th>pregunta_7</th>\n",
       "      <th>pregunta_8</th>\n",
       "      <th>pregunta_9</th>\n",
       "      <th>pregunta_10</th>\n",
       "      <th>pregunta_11</th>\n",
       "      <th>pregunta_12</th>\n",
       "      <th>pregunta_13</th>\n",
       "      <th>datime</th>\n",
       "    </tr>\n",
       "  </thead>\n",
       "  <tbody>\n",
       "    <tr>\n",
       "      <th>0</th>\n",
       "      <td>21</td>\n",
       "      <td>Hombre</td>\n",
       "      <td>Villa Riachuelo</td>\n",
       "      <td>B</td>\n",
       "      <td>C</td>\n",
       "      <td>B</td>\n",
       "      <td>C</td>\n",
       "      <td>C</td>\n",
       "      <td>C</td>\n",
       "      <td>B</td>\n",
       "      <td>C</td>\n",
       "      <td>C</td>\n",
       "      <td>C</td>\n",
       "      <td>A</td>\n",
       "      <td>B</td>\n",
       "      <td>C</td>\n",
       "      <td>2019-01-23 17:31:00</td>\n",
       "    </tr>\n",
       "    <tr>\n",
       "      <th>1</th>\n",
       "      <td>20</td>\n",
       "      <td>Mujer</td>\n",
       "      <td>Otro</td>\n",
       "      <td>B</td>\n",
       "      <td>B</td>\n",
       "      <td>B</td>\n",
       "      <td>B</td>\n",
       "      <td>A</td>\n",
       "      <td>B</td>\n",
       "      <td>B</td>\n",
       "      <td>B</td>\n",
       "      <td>C</td>\n",
       "      <td>C</td>\n",
       "      <td>B</td>\n",
       "      <td>B</td>\n",
       "      <td>B</td>\n",
       "      <td>2019-01-23 13:59:00</td>\n",
       "    </tr>\n",
       "    <tr>\n",
       "      <th>2</th>\n",
       "      <td>63</td>\n",
       "      <td>Mujer</td>\n",
       "      <td>Floresta</td>\n",
       "      <td>B</td>\n",
       "      <td>C</td>\n",
       "      <td>C</td>\n",
       "      <td>C</td>\n",
       "      <td>C</td>\n",
       "      <td>C</td>\n",
       "      <td>C</td>\n",
       "      <td>C</td>\n",
       "      <td>C</td>\n",
       "      <td>C</td>\n",
       "      <td>C</td>\n",
       "      <td>C</td>\n",
       "      <td>C</td>\n",
       "      <td>2019-01-23 10:24:00</td>\n",
       "    </tr>\n",
       "  </tbody>\n",
       "</table>\n",
       "</div>"
      ],
      "text/plain": [
       "   edad  genero           barrio pregunta_1 pregunta_2 pregunta_3 pregunta_4  \\\n",
       "0    21  Hombre  Villa Riachuelo          B          C          B          C   \n",
       "1    20   Mujer             Otro          B          B          B          B   \n",
       "2    63   Mujer         Floresta          B          C          C          C   \n",
       "\n",
       "  pregunta_5 pregunta_6 pregunta_7 pregunta_8 pregunta_9 pregunta_10  \\\n",
       "0          C          C          B          C          C           C   \n",
       "1          A          B          B          B          C           C   \n",
       "2          C          C          C          C          C           C   \n",
       "\n",
       "  pregunta_11 pregunta_12 pregunta_13              datime  \n",
       "0           A           B           C 2019-01-23 17:31:00  \n",
       "1           B           B           B 2019-01-23 13:59:00  \n",
       "2           C           C           C 2019-01-23 10:24:00  "
      ]
     },
     "execution_count": 5,
     "metadata": {},
     "output_type": "execute_result"
    }
   ],
   "source": [
    "test_18.head(3)"
   ]
  },
  {
   "cell_type": "code",
   "execution_count": 6,
   "metadata": {},
   "outputs": [],
   "source": [
    "#X_17 = np.array(pd.get_dummies(test_17.drop([\"edad\",\"genero\",\"barrio\",\"datime\"],axis=1),drop_first=True))\n",
    "X_18 = np.array(pd.get_dummies(test_18.drop([\"edad\",\"genero\",\"barrio\",\"datime\"],axis=1),drop_first=True))"
   ]
  },
  {
   "cell_type": "markdown",
   "metadata": {},
   "source": [
    "Hacemos una funcion para calcular y entregar:\n",
    "* Los links\n",
    "* Los graficos de los links"
   ]
  },
  {
   "cell_type": "code",
   "execution_count": 7,
   "metadata": {},
   "outputs": [],
   "source": [
    "def evaluar_clusters(X, metodo,mostrar=False,regresar=False):\n",
    "    # X: Datos a clusterizar\n",
    "    # metodo: Tipo de link\n",
    "    # mostrar: Imprimir o no un dendrograma\n",
    "    # regresar: entregar datos en el formato (coeficiente, distancias)\n",
    "    L = linkage(X, metodo)\n",
    "    c, coph_dists = cophenet(L, pdist(X))\n",
    "    if mostrar == True:\n",
    "        print(metodo, c)\n",
    "        plt.figure(figsize=[6,6])\n",
    "        plt.title('Dendrogram - Method: ' + metodo.title())\n",
    "        plt.xlabel('Index Numbers')\n",
    "        plt.ylabel('Distance')\n",
    "        dendrogram(L, leaf_rotation=90., leaf_font_size=5.)\n",
    "        plt.plot()\n",
    "    if regresar == True:\n",
    "        return c,coph_dists,L"
   ]
  },
  {
   "cell_type": "markdown",
   "metadata": {},
   "source": [
    "Corremos el programa para evaluar los distintos tipos de links (con el dataset chico)"
   ]
  },
  {
   "cell_type": "code",
   "execution_count": 17,
   "metadata": {
    "scrolled": false
   },
   "outputs": [
    {
     "name": "stdout",
     "output_type": "stream",
     "text": [
      "ward 0.4690909735997232\n",
      "single 0.4009183133770732\n",
      "average 0.6814045198343657\n",
      "complete 0.4962159960161871\n"
     ]
    },
    {
     "data": {
      "image/png": "[encoded data removed]",
      "text/plain": [
       "<Figure size 432x432 with 1 Axes>"
      ]
     },
     "metadata": {},
     "output_type": "display_data"
    },
    {
     "data": {
      "image/png": "[encoded data removed]",
      "text/plain": [
       "<Figure size 432x432 with 1 Axes>"
      ]
     },
     "metadata": {},
     "output_type": "display_data"
    },
    {
     "data": {
      "image/png": "[encoded data removed]",
      "text/plain": [
       "<Figure size 432x432 with 1 Axes>"
      ]
     },
     "metadata": {},
     "output_type": "display_data"
    },
    {
     "data": {
      "image/png": "[encoded data removed]",
      "text/plain": [
       "<Figure size 432x432 with 1 Axes>"
      ]
     },
     "metadata": {},
     "output_type": "display_data"
    }
   ],
   "source": [
    "for i in ['ward','single','average','complete']:\n",
    "    evaluar_clusters(X_18, i,mostrar=True)"
   ]
  },
  {
   "cell_type": "markdown",
   "metadata": {},
   "source": [
    "Primero probamos con average ya que este tiene el resultado más alto."
   ]
  },
  {
   "cell_type": "code",
   "execution_count": 9,
   "metadata": {},
   "outputs": [
    {
     "data": {
      "text/plain": [
       "array([1, 2, 1, ..., 2, 2, 1], dtype=int32)"
      ]
     },
     "execution_count": 9,
     "metadata": {},
     "output_type": "execute_result"
    }
   ],
   "source": [
    "aux ,Z_18,L = evaluar_clusters(X_18,\"average\",regresar=True)\n",
    "\n",
    "clusters = fcluster(L,3, criterion='maxclust')\n",
    "clusters"
   ]
  },
  {
   "cell_type": "code",
   "execution_count": 10,
   "metadata": {},
   "outputs": [],
   "source": [
    "#Convertimos los datos en serie para traspasarlos al dataframe\n",
    "test_18[\"cluster_avg\"] = pd.Series(clusters,dtype=int)"
   ]
  },
  {
   "cell_type": "code",
   "execution_count": 11,
   "metadata": {},
   "outputs": [
    {
     "data": {
      "text/html": [
       "<div>\n",
       "<style scoped>\n",
       "    .dataframe tbody tr th:only-of-type {\n",
       "        vertical-align: middle;\n",
       "    }\n",
       "\n",
       "    .dataframe tbody tr th {\n",
       "        vertical-align: top;\n",
       "    }\n",
       "\n",
       "    .dataframe thead th {\n",
       "        text-align: right;\n",
       "    }\n",
       "</style>\n",
       "<table border=\"1\" class=\"dataframe\">\n",
       "  <thead>\n",
       "    <tr style=\"text-align: right;\">\n",
       "      <th></th>\n",
       "      <th>edad</th>\n",
       "      <th>genero</th>\n",
       "      <th>barrio</th>\n",
       "      <th>pregunta_1</th>\n",
       "      <th>pregunta_2</th>\n",
       "      <th>pregunta_3</th>\n",
       "      <th>pregunta_4</th>\n",
       "      <th>pregunta_5</th>\n",
       "      <th>pregunta_6</th>\n",
       "      <th>pregunta_7</th>\n",
       "      <th>pregunta_8</th>\n",
       "      <th>pregunta_9</th>\n",
       "      <th>pregunta_10</th>\n",
       "      <th>pregunta_11</th>\n",
       "      <th>pregunta_12</th>\n",
       "      <th>pregunta_13</th>\n",
       "      <th>datime</th>\n",
       "      <th>cluster_avg</th>\n",
       "    </tr>\n",
       "  </thead>\n",
       "  <tbody>\n",
       "    <tr>\n",
       "      <th>0</th>\n",
       "      <td>21</td>\n",
       "      <td>Hombre</td>\n",
       "      <td>Villa Riachuelo</td>\n",
       "      <td>B</td>\n",
       "      <td>C</td>\n",
       "      <td>B</td>\n",
       "      <td>C</td>\n",
       "      <td>C</td>\n",
       "      <td>C</td>\n",
       "      <td>B</td>\n",
       "      <td>C</td>\n",
       "      <td>C</td>\n",
       "      <td>C</td>\n",
       "      <td>A</td>\n",
       "      <td>B</td>\n",
       "      <td>C</td>\n",
       "      <td>2019-01-23 17:31:00</td>\n",
       "      <td>1</td>\n",
       "    </tr>\n",
       "    <tr>\n",
       "      <th>1</th>\n",
       "      <td>20</td>\n",
       "      <td>Mujer</td>\n",
       "      <td>Otro</td>\n",
       "      <td>B</td>\n",
       "      <td>B</td>\n",
       "      <td>B</td>\n",
       "      <td>B</td>\n",
       "      <td>A</td>\n",
       "      <td>B</td>\n",
       "      <td>B</td>\n",
       "      <td>B</td>\n",
       "      <td>C</td>\n",
       "      <td>C</td>\n",
       "      <td>B</td>\n",
       "      <td>B</td>\n",
       "      <td>B</td>\n",
       "      <td>2019-01-23 13:59:00</td>\n",
       "      <td>2</td>\n",
       "    </tr>\n",
       "    <tr>\n",
       "      <th>2</th>\n",
       "      <td>63</td>\n",
       "      <td>Mujer</td>\n",
       "      <td>Floresta</td>\n",
       "      <td>B</td>\n",
       "      <td>C</td>\n",
       "      <td>C</td>\n",
       "      <td>C</td>\n",
       "      <td>C</td>\n",
       "      <td>C</td>\n",
       "      <td>C</td>\n",
       "      <td>C</td>\n",
       "      <td>C</td>\n",
       "      <td>C</td>\n",
       "      <td>C</td>\n",
       "      <td>C</td>\n",
       "      <td>C</td>\n",
       "      <td>2019-01-23 10:24:00</td>\n",
       "      <td>1</td>\n",
       "    </tr>\n",
       "    <tr>\n",
       "      <th>3</th>\n",
       "      <td>30</td>\n",
       "      <td>Mujer</td>\n",
       "      <td>Otro</td>\n",
       "      <td>B</td>\n",
       "      <td>A</td>\n",
       "      <td>B</td>\n",
       "      <td>A</td>\n",
       "      <td>B</td>\n",
       "      <td>B</td>\n",
       "      <td>B</td>\n",
       "      <td>B</td>\n",
       "      <td>B</td>\n",
       "      <td>B</td>\n",
       "      <td>B</td>\n",
       "      <td>A</td>\n",
       "      <td>C</td>\n",
       "      <td>2019-01-23 00:20:00</td>\n",
       "      <td>2</td>\n",
       "    </tr>\n",
       "    <tr>\n",
       "      <th>4</th>\n",
       "      <td>27</td>\n",
       "      <td>Mujer</td>\n",
       "      <td>Caballito</td>\n",
       "      <td>B</td>\n",
       "      <td>C</td>\n",
       "      <td>B</td>\n",
       "      <td>B</td>\n",
       "      <td>C</td>\n",
       "      <td>C</td>\n",
       "      <td>C</td>\n",
       "      <td>C</td>\n",
       "      <td>B</td>\n",
       "      <td>C</td>\n",
       "      <td>C</td>\n",
       "      <td>C</td>\n",
       "      <td>C</td>\n",
       "      <td>2019-01-22 23:44:00</td>\n",
       "      <td>2</td>\n",
       "    </tr>\n",
       "  </tbody>\n",
       "</table>\n",
       "</div>"
      ],
      "text/plain": [
       "   edad  genero           barrio pregunta_1 pregunta_2 pregunta_3 pregunta_4  \\\n",
       "0    21  Hombre  Villa Riachuelo          B          C          B          C   \n",
       "1    20   Mujer             Otro          B          B          B          B   \n",
       "2    63   Mujer         Floresta          B          C          C          C   \n",
       "3    30   Mujer             Otro          B          A          B          A   \n",
       "4    27   Mujer        Caballito          B          C          B          B   \n",
       "\n",
       "  pregunta_5 pregunta_6 pregunta_7 pregunta_8 pregunta_9 pregunta_10  \\\n",
       "0          C          C          B          C          C           C   \n",
       "1          A          B          B          B          C           C   \n",
       "2          C          C          C          C          C           C   \n",
       "3          B          B          B          B          B           B   \n",
       "4          C          C          C          C          B           C   \n",
       "\n",
       "  pregunta_11 pregunta_12 pregunta_13              datime  cluster_avg  \n",
       "0           A           B           C 2019-01-23 17:31:00            1  \n",
       "1           B           B           B 2019-01-23 13:59:00            2  \n",
       "2           C           C           C 2019-01-23 10:24:00            1  \n",
       "3           B           A           C 2019-01-23 00:20:00            2  \n",
       "4           C           C           C 2019-01-22 23:44:00            2  "
      ]
     },
     "execution_count": 11,
     "metadata": {},
     "output_type": "execute_result"
    }
   ],
   "source": [
    "test_18.head(5)"
   ]
  },
  {
   "cell_type": "markdown",
   "metadata": {},
   "source": [
    "Hacemos el mismo proceso para el método ward, ya que en la grafica se puede ver unos grupos bastante bien distinguidos."
   ]
  },
  {
   "cell_type": "code",
   "execution_count": 12,
   "metadata": {},
   "outputs": [
    {
     "data": {
      "text/plain": [
       "array([2, 4, 2, ..., 4, 4, 4], dtype=int32)"
      ]
     },
     "execution_count": 12,
     "metadata": {},
     "output_type": "execute_result"
    }
   ],
   "source": [
    "aux ,Z_18,L = evaluar_clusters(X_18,\"ward\",regresar=True)\n",
    "\n",
    "clusters = fcluster(L,4, criterion='maxclust')\n",
    "clusters"
   ]
  },
  {
   "cell_type": "code",
   "execution_count": 13,
   "metadata": {},
   "outputs": [],
   "source": [
    "#Convertimos los datos en serie para traspasarlos al dataframe\n",
    "test_18[\"cluster_ward\"] = pd.Series(clusters,dtype=int)"
   ]
  },
  {
   "cell_type": "markdown",
   "metadata": {},
   "source": [
    "Exportamos el dataset para hacer analisis posterior en otro notebook"
   ]
  },
  {
   "cell_type": "code",
   "execution_count": 15,
   "metadata": {},
   "outputs": [],
   "source": [
    "test_18.to_csv(\"Test_18_clustering.csv\")"
   ]
  },
  {
   "cell_type": "code",
   "execution_count": null,
   "metadata": {},
   "outputs": [],
   "source": []
  }
 ],
 "metadata": {
  "kernelspec": {
   "display_name": "Python 3",
   "language": "python",
   "name": "python3"
  },
  "language_info": {
   "codemirror_mode": {
    "name": "ipython",
    "version": 3
   },
   "file_extension": ".py",
   "mimetype": "text/x-python",
   "name": "python",
   "nbconvert_exporter": "python",
   "pygments_lexer": "ipython3",
   "version": "3.6.6"
  }
 },
 "nbformat": 4,
 "nbformat_minor": 2
}
